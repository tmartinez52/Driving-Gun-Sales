{
 "cells": [
  {
   "cell_type": "code",
   "execution_count": null,
   "metadata": {},
   "outputs": [],
   "source": [
    "#Twitter credentials for the app\n",
    "consumer_key = 'ayw0TATRr5MoRhtpu7dFZw7Pk'\n",
    "consumer_secret = 'kx1eTRE06zqQkCLSuZ3s9x3tCp1RiBh9CJW4BTHcjsCbc1KF2H'\n",
    "access_key= '148529984-sz1H90jhwMrgqfMVw1zwI7bliF73fU059ZMe7CpH'\n",
    "access_secret = 'sj3iUHurnlroj7wVLNUmnFUnoewIcrsS9F0dkDMxGOaRa'"
   ]
  }
 ],
 "metadata": {
  "kernelspec": {
   "display_name": "Conda [PythonData]",
   "language": "python",
   "name": "pythondata"
  },
  "language_info": {
   "codemirror_mode": {
    "name": "ipython",
    "version": 3
   },
   "file_extension": ".py",
   "mimetype": "text/x-python",
   "name": "python",
   "nbconvert_exporter": "python",
   "pygments_lexer": "ipython3",
   "version": "3.7.3"
  }
 },
 "nbformat": 4,
 "nbformat_minor": 2
}
