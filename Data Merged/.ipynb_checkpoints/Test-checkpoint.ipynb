{
 "cells": [
  {
   "cell_type": "code",
   "execution_count": 1,
   "metadata": {},
   "outputs": [],
   "source": [
    "import pandas as pd\n",
    "from random import randint\n",
    "import matplotlib.pyplot as plt\n",
    "import numpy as np\n",
    "from scipy import stats\n",
    "from statsmodels.stats.multicomp import pairwise_tukeyhsd"
   ]
  },
  {
   "cell_type": "code",
   "execution_count": 2,
   "metadata": {},
   "outputs": [],
   "source": [
    "csv_path1 = \"Resources/massshoot_gunsales6.csv\""
   ]
  },
  {
   "cell_type": "code",
   "execution_count": 5,
   "metadata": {},
   "outputs": [
    {
     "data": {
      "text/html": [
       "<div>\n",
       "<style scoped>\n",
       "    .dataframe tbody tr th:only-of-type {\n",
       "        vertical-align: middle;\n",
       "    }\n",
       "\n",
       "    .dataframe tbody tr th {\n",
       "        vertical-align: top;\n",
       "    }\n",
       "\n",
       "    .dataframe thead th {\n",
       "        text-align: right;\n",
       "    }\n",
       "</style>\n",
       "<table border=\"1\" class=\"dataframe\">\n",
       "  <thead>\n",
       "    <tr style=\"text-align: right;\">\n",
       "      <th></th>\n",
       "      <th>monthyr_num</th>\n",
       "      <th>Number of Incidents</th>\n",
       "      <th>Total Number of Victims in Month</th>\n",
       "      <th>Relative Value</th>\n",
       "      <th>monthyr_impact</th>\n",
       "      <th>monthyr_prev</th>\n",
       "      <th>Total Sales_prev</th>\n",
       "      <th>Total Sales_impact</th>\n",
       "      <th>Total Sales</th>\n",
       "    </tr>\n",
       "  </thead>\n",
       "  <tbody>\n",
       "    <tr>\n",
       "      <th>0</th>\n",
       "      <td>201404.0</td>\n",
       "      <td>1.0</td>\n",
       "      <td>15.0</td>\n",
       "      <td>24.0</td>\n",
       "      <td>201405.0</td>\n",
       "      <td>201305.0</td>\n",
       "      <td>913858.0</td>\n",
       "      <td>814389.0</td>\n",
       "      <td>930271.0</td>\n",
       "    </tr>\n",
       "    <tr>\n",
       "      <th>1</th>\n",
       "      <td>201405.0</td>\n",
       "      <td>1.0</td>\n",
       "      <td>19.0</td>\n",
       "      <td>25.0</td>\n",
       "      <td>201406.0</td>\n",
       "      <td>201306.0</td>\n",
       "      <td>815310.0</td>\n",
       "      <td>747528.0</td>\n",
       "      <td>814389.0</td>\n",
       "    </tr>\n",
       "    <tr>\n",
       "      <th>2</th>\n",
       "      <td>201410.0</td>\n",
       "      <td>1.0</td>\n",
       "      <td>6.0</td>\n",
       "      <td>23.0</td>\n",
       "      <td>201411.0</td>\n",
       "      <td>201311.0</td>\n",
       "      <td>1226493.0</td>\n",
       "      <td>1256129.0</td>\n",
       "      <td>1089878.0</td>\n",
       "    </tr>\n",
       "    <tr>\n",
       "      <th>3</th>\n",
       "      <td>201506.0</td>\n",
       "      <td>1.0</td>\n",
       "      <td>10.0</td>\n",
       "      <td>32.0</td>\n",
       "      <td>201507.0</td>\n",
       "      <td>201407.0</td>\n",
       "      <td>753052.0</td>\n",
       "      <td>877775.0</td>\n",
       "      <td>825111.0</td>\n",
       "    </tr>\n",
       "    <tr>\n",
       "      <th>4</th>\n",
       "      <td>201507.0</td>\n",
       "      <td>1.0</td>\n",
       "      <td>7.0</td>\n",
       "      <td>30.0</td>\n",
       "      <td>201508.0</td>\n",
       "      <td>201408.0</td>\n",
       "      <td>914388.0</td>\n",
       "      <td>965185.0</td>\n",
       "      <td>877775.0</td>\n",
       "    </tr>\n",
       "  </tbody>\n",
       "</table>\n",
       "</div>"
      ],
      "text/plain": [
       "   monthyr_num  Number of Incidents  Total Number of Victims in Month  \\\n",
       "0     201404.0                  1.0                              15.0   \n",
       "1     201405.0                  1.0                              19.0   \n",
       "2     201410.0                  1.0                               6.0   \n",
       "3     201506.0                  1.0                              10.0   \n",
       "4     201507.0                  1.0                               7.0   \n",
       "\n",
       "   Relative Value  monthyr_impact  monthyr_prev  Total Sales_prev  \\\n",
       "0            24.0        201405.0      201305.0          913858.0   \n",
       "1            25.0        201406.0      201306.0          815310.0   \n",
       "2            23.0        201411.0      201311.0         1226493.0   \n",
       "3            32.0        201507.0      201407.0          753052.0   \n",
       "4            30.0        201508.0      201408.0          914388.0   \n",
       "\n",
       "   Total Sales_impact  Total Sales  \n",
       "0            814389.0     930271.0  \n",
       "1            747528.0     814389.0  \n",
       "2           1256129.0    1089878.0  \n",
       "3            877775.0     825111.0  \n",
       "4            965185.0     877775.0  "
      ]
     },
     "execution_count": 5,
     "metadata": {},
     "output_type": "execute_result"
    }
   ],
   "source": [
    "massshoot_gunsales7_df = pd.read_csv(csv_path1)\n",
    "massshoot_gunsales7_df.head()"
   ]
  },
  {
   "cell_type": "code",
   "execution_count": null,
   "metadata": {},
   "outputs": [],
   "source": [
    "massshoot_gun"
   ]
  }
 ],
 "metadata": {
  "kernelspec": {
   "display_name": "Python 3",
   "language": "python",
   "name": "python3"
  },
  "language_info": {
   "codemirror_mode": {
    "name": "ipython",
    "version": 3
   },
   "file_extension": ".py",
   "mimetype": "text/x-python",
   "name": "python",
   "nbconvert_exporter": "python",
   "pygments_lexer": "ipython3",
   "version": "3.7.3"
  }
 },
 "nbformat": 4,
 "nbformat_minor": 2
}
